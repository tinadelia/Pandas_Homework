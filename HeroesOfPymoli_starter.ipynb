{
 "cells": [
  {
   "cell_type": "markdown",
   "metadata": {},
   "source": [
    "### Heroes Of Pymoli Data Analysis\n",
    "* Of the 1163 active players, the vast majority are male (84%). There also exists, a smaller, but notable proportion of female players (14%).\n",
    "\n",
    "* Our peak age demographic falls between 20-24 (44.8%) with secondary groups falling between 15-19 (18.60%) and 25-29 (13.4%).  \n",
    "-----"
   ]
  },
  {
   "cell_type": "markdown",
   "metadata": {},
   "source": [
    "### Note\n",
    "* Instructions have been included for each segment. You do not have to follow them exactly, but they are included to help you think through the steps."
   ]
  },
  {
   "cell_type": "code",
   "execution_count": 1,
   "metadata": {},
   "outputs": [],
   "source": [
    "import pandas as pd\n",
    "import numpy as np\n",
    "\n",
    "file_to_load = \"Resources/purchase_data.csv\"\n",
    "game_df = pd.read_csv(file_to_load)"
   ]
  },
  {
   "cell_type": "code",
   "execution_count": 2,
   "metadata": {},
   "outputs": [
    {
     "data": {
      "text/html": [
       "<div>\n",
       "<style scoped>\n",
       "    .dataframe tbody tr th:only-of-type {\n",
       "        vertical-align: middle;\n",
       "    }\n",
       "\n",
       "    .dataframe tbody tr th {\n",
       "        vertical-align: top;\n",
       "    }\n",
       "\n",
       "    .dataframe thead th {\n",
       "        text-align: right;\n",
       "    }\n",
       "</style>\n",
       "<table border=\"1\" class=\"dataframe\">\n",
       "  <thead>\n",
       "    <tr style=\"text-align: right;\">\n",
       "      <th></th>\n",
       "      <th>Purchase ID</th>\n",
       "      <th>SN</th>\n",
       "      <th>Age</th>\n",
       "      <th>Gender</th>\n",
       "      <th>Item ID</th>\n",
       "      <th>Item Name</th>\n",
       "      <th>Price</th>\n",
       "    </tr>\n",
       "  </thead>\n",
       "  <tbody>\n",
       "    <tr>\n",
       "      <th>0</th>\n",
       "      <td>0</td>\n",
       "      <td>Lisim78</td>\n",
       "      <td>20</td>\n",
       "      <td>Male</td>\n",
       "      <td>108</td>\n",
       "      <td>Extraction, Quickblade Of Trembling Hands</td>\n",
       "      <td>3.53</td>\n",
       "    </tr>\n",
       "    <tr>\n",
       "      <th>1</th>\n",
       "      <td>1</td>\n",
       "      <td>Lisovynya38</td>\n",
       "      <td>40</td>\n",
       "      <td>Male</td>\n",
       "      <td>143</td>\n",
       "      <td>Frenzied Scimitar</td>\n",
       "      <td>1.56</td>\n",
       "    </tr>\n",
       "    <tr>\n",
       "      <th>2</th>\n",
       "      <td>2</td>\n",
       "      <td>Ithergue48</td>\n",
       "      <td>24</td>\n",
       "      <td>Male</td>\n",
       "      <td>92</td>\n",
       "      <td>Final Critic</td>\n",
       "      <td>4.88</td>\n",
       "    </tr>\n",
       "    <tr>\n",
       "      <th>3</th>\n",
       "      <td>3</td>\n",
       "      <td>Chamassasya86</td>\n",
       "      <td>24</td>\n",
       "      <td>Male</td>\n",
       "      <td>100</td>\n",
       "      <td>Blindscythe</td>\n",
       "      <td>3.27</td>\n",
       "    </tr>\n",
       "    <tr>\n",
       "      <th>4</th>\n",
       "      <td>4</td>\n",
       "      <td>Iskosia90</td>\n",
       "      <td>23</td>\n",
       "      <td>Male</td>\n",
       "      <td>131</td>\n",
       "      <td>Fury</td>\n",
       "      <td>1.44</td>\n",
       "    </tr>\n",
       "  </tbody>\n",
       "</table>\n",
       "</div>"
      ],
      "text/plain": [
       "   Purchase ID             SN  Age Gender  Item ID  \\\n",
       "0            0        Lisim78   20   Male      108   \n",
       "1            1    Lisovynya38   40   Male      143   \n",
       "2            2     Ithergue48   24   Male       92   \n",
       "3            3  Chamassasya86   24   Male      100   \n",
       "4            4      Iskosia90   23   Male      131   \n",
       "\n",
       "                                   Item Name  Price  \n",
       "0  Extraction, Quickblade Of Trembling Hands   3.53  \n",
       "1                          Frenzied Scimitar   1.56  \n",
       "2                               Final Critic   4.88  \n",
       "3                                Blindscythe   3.27  \n",
       "4                                       Fury   1.44  "
      ]
     },
     "execution_count": 2,
     "metadata": {},
     "output_type": "execute_result"
    }
   ],
   "source": [
    "game_df.head()"
   ]
  },
  {
   "cell_type": "markdown",
   "metadata": {},
   "source": [
    "## Player Count"
   ]
  },
  {
   "cell_type": "markdown",
   "metadata": {},
   "source": [
    "* Display the total number of players\n"
   ]
  },
  {
   "cell_type": "code",
   "execution_count": 3,
   "metadata": {},
   "outputs": [
    {
     "name": "stdout",
     "output_type": "stream",
     "text": [
      "Total_Number_of_Players: 576\n"
     ]
    }
   ],
   "source": [
    "player_count = len(game_df[\"SN\"].unique())\n",
    "print(f\"Total_Number_of_Players: {player_count}\")"
   ]
  },
  {
   "cell_type": "markdown",
   "metadata": {},
   "source": [
    "## Purchasing Analysis (Total)"
   ]
  },
  {
   "cell_type": "markdown",
   "metadata": {},
   "source": [
    "* Run basic calculations to obtain number of unique items, average price, etc.\n",
    "\n",
    "\n",
    "* Create a summary data frame to hold the results\n",
    "\n",
    "\n",
    "* Optional: give the displayed data cleaner formatting\n",
    "\n",
    "\n",
    "* Display the summary data frame\n"
   ]
  },
  {
   "cell_type": "code",
   "execution_count": 4,
   "metadata": {
    "scrolled": true
   },
   "outputs": [
    {
     "data": {
      "text/html": [
       "<style  type=\"text/css\" >\n",
       "</style><table id=\"T_67bf36de_9a9d_11e9_97a0_9eb6d0686515\" ><thead>    <tr>        <th class=\"blank level0\" ></th>        <th class=\"col_heading level0 col0\" >Number_of_Unique_Items</th>        <th class=\"col_heading level0 col1\" >Average_Price</th>        <th class=\"col_heading level0 col2\" >Number_of_Purchases</th>        <th class=\"col_heading level0 col3\" >Total_Revenue</th>    </tr></thead><tbody>\n",
       "                <tr>\n",
       "                        <th id=\"T_67bf36de_9a9d_11e9_97a0_9eb6d0686515level0_row0\" class=\"row_heading level0 row0\" >0</th>\n",
       "                        <td id=\"T_67bf36de_9a9d_11e9_97a0_9eb6d0686515row0_col0\" class=\"data row0 col0\" >183</td>\n",
       "                        <td id=\"T_67bf36de_9a9d_11e9_97a0_9eb6d0686515row0_col1\" class=\"data row0 col1\" >$3.05</td>\n",
       "                        <td id=\"T_67bf36de_9a9d_11e9_97a0_9eb6d0686515row0_col2\" class=\"data row0 col2\" >780</td>\n",
       "                        <td id=\"T_67bf36de_9a9d_11e9_97a0_9eb6d0686515row0_col3\" class=\"data row0 col3\" >$2,379.77</td>\n",
       "            </tr>\n",
       "    </tbody></table>"
      ],
      "text/plain": [
       "<pandas.io.formats.style.Styler at 0x17b6d39fc88>"
      ]
     },
     "execution_count": 4,
     "metadata": {},
     "output_type": "execute_result"
    }
   ],
   "source": [
    "gen_df = game_df.drop_duplicates(subset=\"SN\",keep=\"first\")\n",
    "n_u_i = len((game_df[\"Item ID\"]).unique())\n",
    "avg_p = (game_df[\"Price\"]).mean()\n",
    "n_o_p = (game_df[\"Purchase ID\"]).count()\n",
    "t_r = (game_df[\"Price\"]).sum()\n",
    "\n",
    "p_table = pd.DataFrame({\"Number_of_Unique_Items\":[n_u_i],\n",
    "                           \"Average_Price\":[avg_p], \n",
    "                           \"Number_of_Purchases\": [n_o_p], \n",
    "                           \"Total_Revenue\": [t_r]})\n",
    "\n",
    "p_table.style.format({'Average_Price':\"${:,.2f}\",\n",
    "                         'Total_Revenue': '${:,.2f}'})"
   ]
  },
  {
   "cell_type": "markdown",
   "metadata": {},
   "source": [
    "## Gender Demographics"
   ]
  },
  {
   "cell_type": "markdown",
   "metadata": {},
   "source": [
    "* Percentage and Count of Male Players\n",
    "\n",
    "\n",
    "* Percentage and Count of Female Players\n",
    "\n",
    "\n",
    "* Percentage and Count of Other / Non-Disclosed\n",
    "\n",
    "\n"
   ]
  },
  {
   "cell_type": "markdown",
   "metadata": {},
   "source": [
    "\n",
    "    "
   ]
  },
  {
   "cell_type": "code",
   "execution_count": 5,
   "metadata": {},
   "outputs": [
    {
     "data": {
      "text/html": [
       "<style  type=\"text/css\" >\n",
       "</style><table id=\"T_67c9b310_9a9d_11e9_987a_9eb6d0686515\" ><thead>    <tr>        <th class=\"blank level0\" ></th>        <th class=\"col_heading level0 col0\" >Total_Count</th>        <th class=\"col_heading level0 col1\" >Percentage_of_Players</th>    </tr></thead><tbody>\n",
       "                <tr>\n",
       "                        <th id=\"T_67c9b310_9a9d_11e9_987a_9eb6d0686515level0_row0\" class=\"row_heading level0 row0\" >Male</th>\n",
       "                        <td id=\"T_67c9b310_9a9d_11e9_987a_9eb6d0686515row0_col0\" class=\"data row0 col0\" >484</td>\n",
       "                        <td id=\"T_67c9b310_9a9d_11e9_987a_9eb6d0686515row0_col1\" class=\"data row0 col1\" >84.03</td>\n",
       "            </tr>\n",
       "            <tr>\n",
       "                        <th id=\"T_67c9b310_9a9d_11e9_987a_9eb6d0686515level0_row1\" class=\"row_heading level0 row1\" >Female</th>\n",
       "                        <td id=\"T_67c9b310_9a9d_11e9_987a_9eb6d0686515row1_col0\" class=\"data row1 col0\" >81</td>\n",
       "                        <td id=\"T_67c9b310_9a9d_11e9_987a_9eb6d0686515row1_col1\" class=\"data row1 col1\" >14.06</td>\n",
       "            </tr>\n",
       "            <tr>\n",
       "                        <th id=\"T_67c9b310_9a9d_11e9_987a_9eb6d0686515level0_row2\" class=\"row_heading level0 row2\" >Other / Non-Disclosed</th>\n",
       "                        <td id=\"T_67c9b310_9a9d_11e9_987a_9eb6d0686515row2_col0\" class=\"data row2 col0\" >11</td>\n",
       "                        <td id=\"T_67c9b310_9a9d_11e9_987a_9eb6d0686515row2_col1\" class=\"data row2 col1\" >1.91</td>\n",
       "            </tr>\n",
       "    </tbody></table>"
      ],
      "text/plain": [
       "<pandas.io.formats.style.Styler at 0x17b6e13bcf8>"
      ]
     },
     "execution_count": 5,
     "metadata": {},
     "output_type": "execute_result"
    }
   ],
   "source": [
    "g_stats = game_df.groupby(\"Gender\")\n",
    "t_c_g = g_stats.nunique()[\"SN\"]\n",
    "t_p = len(gen_df[\"Gender\"])\n",
    "p_p = t_c_g / t_p * 100\n",
    "\n",
    "g_d = pd.DataFrame({\"Total_Count\": t_c_g, \"Percentage_of_Players\": p_p})\n",
    "g_d.index.name = None\n",
    "g_d.sort_values([\"Total_Count\"], ascending = False).style.format({\"Percentage_of_Players\":\"{:.2f}\"})"
   ]
  },
  {
   "cell_type": "markdown",
   "metadata": {},
   "source": [
    "\n",
    "## Purchasing Analysis (Gender)"
   ]
  },
  {
   "cell_type": "markdown",
   "metadata": {},
   "source": [
    "* Run basic calculations to obtain purchase count, avg. purchase price, avg. purchase total per person etc. by gender\n",
    "\n",
    "\n",
    "\n",
    "\n",
    "* Create a summary data frame to hold the results\n",
    "\n",
    "\n",
    "* Optional: give the displayed data cleaner formatting\n",
    "\n",
    "\n",
    "* Display the summary data frame"
   ]
  },
  {
   "cell_type": "code",
   "execution_count": 6,
   "metadata": {
    "scrolled": true
   },
   "outputs": [
    {
     "data": {
      "text/html": [
       "<style  type=\"text/css\" >\n",
       "</style><table id=\"T_67cdf606_9a9d_11e9_b2d2_9eb6d0686515\" ><thead>    <tr>        <th class=\"blank level0\" ></th>        <th class=\"col_heading level0 col0\" >Purchase_Count</th>        <th class=\"col_heading level0 col1\" >Average_Purchase_Price</th>        <th class=\"col_heading level0 col2\" >Average_Purchase_Value</th>        <th class=\"col_heading level0 col3\" >Avg_Purchase_Total per_Person</th>    </tr>    <tr>        <th class=\"index_name level0\" >Gender</th>        <th class=\"blank\" ></th>        <th class=\"blank\" ></th>        <th class=\"blank\" ></th>        <th class=\"blank\" ></th>    </tr></thead><tbody>\n",
       "                <tr>\n",
       "                        <th id=\"T_67cdf606_9a9d_11e9_b2d2_9eb6d0686515level0_row0\" class=\"row_heading level0 row0\" >Female</th>\n",
       "                        <td id=\"T_67cdf606_9a9d_11e9_b2d2_9eb6d0686515row0_col0\" class=\"data row0 col0\" >113</td>\n",
       "                        <td id=\"T_67cdf606_9a9d_11e9_b2d2_9eb6d0686515row0_col1\" class=\"data row0 col1\" >$3.20</td>\n",
       "                        <td id=\"T_67cdf606_9a9d_11e9_b2d2_9eb6d0686515row0_col2\" class=\"data row0 col2\" >361.94</td>\n",
       "                        <td id=\"T_67cdf606_9a9d_11e9_b2d2_9eb6d0686515row0_col3\" class=\"data row0 col3\" >4.4684</td>\n",
       "            </tr>\n",
       "            <tr>\n",
       "                        <th id=\"T_67cdf606_9a9d_11e9_b2d2_9eb6d0686515level0_row1\" class=\"row_heading level0 row1\" >Male</th>\n",
       "                        <td id=\"T_67cdf606_9a9d_11e9_b2d2_9eb6d0686515row1_col0\" class=\"data row1 col0\" >652</td>\n",
       "                        <td id=\"T_67cdf606_9a9d_11e9_b2d2_9eb6d0686515row1_col1\" class=\"data row1 col1\" >$3.02</td>\n",
       "                        <td id=\"T_67cdf606_9a9d_11e9_b2d2_9eb6d0686515row1_col2\" class=\"data row1 col2\" >1967.64</td>\n",
       "                        <td id=\"T_67cdf606_9a9d_11e9_b2d2_9eb6d0686515row1_col3\" class=\"data row1 col3\" >4.06537</td>\n",
       "            </tr>\n",
       "            <tr>\n",
       "                        <th id=\"T_67cdf606_9a9d_11e9_b2d2_9eb6d0686515level0_row2\" class=\"row_heading level0 row2\" >Other / Non-Disclosed</th>\n",
       "                        <td id=\"T_67cdf606_9a9d_11e9_b2d2_9eb6d0686515row2_col0\" class=\"data row2 col0\" >15</td>\n",
       "                        <td id=\"T_67cdf606_9a9d_11e9_b2d2_9eb6d0686515row2_col1\" class=\"data row2 col1\" >$3.35</td>\n",
       "                        <td id=\"T_67cdf606_9a9d_11e9_b2d2_9eb6d0686515row2_col2\" class=\"data row2 col2\" >50.19</td>\n",
       "                        <td id=\"T_67cdf606_9a9d_11e9_b2d2_9eb6d0686515row2_col3\" class=\"data row2 col3\" >4.56273</td>\n",
       "            </tr>\n",
       "    </tbody></table>"
      ],
      "text/plain": [
       "<pandas.io.formats.style.Styler at 0x17b6e189fd0>"
      ]
     },
     "execution_count": 6,
     "metadata": {},
     "output_type": "execute_result"
    }
   ],
   "source": [
    "p_c = g_stats[\"Purchase ID\"].count()\n",
    "a_price = g_stats[\"Price\"].mean()\n",
    "a_total = g_stats[\"Price\"].sum()\n",
    "p_avg = a_total/t_c_g\n",
    "# Create data frame with obtained values \n",
    "g_t = pd.DataFrame({\"Purchase_Count\": p_c, \n",
    "                                    \"Average_Purchase_Price\": a_price,\n",
    "                                    \"Average_Purchase_Value\":a_total,\n",
    "                                    \"Avg_Purchase_Total per_Person\": p_avg})\n",
    "\n",
    "g_t.index.name = \"Gender\"\n",
    "\n",
    "g_t.style.format({\"Average Purchase Value\":\"${:,.2f}\",\n",
    "                                  \"Average_Purchase_Price\":\"${:,.2f}\",\n",
    "                                  \"Avg_Purchase_Total_per_Person\":\"${:,.2f}\"})"
   ]
  },
  {
   "cell_type": "markdown",
   "metadata": {},
   "source": [
    "## Age Demographics"
   ]
  },
  {
   "cell_type": "markdown",
   "metadata": {},
   "source": [
    "* Establish bins for ages\n",
    "\n",
    "\n",
    "* Categorize the existing players using the age bins. Hint: use pd.cut()\n",
    "\n",
    "\n",
    "* Calculate the numbers and percentages by age group\n",
    "\n",
    "\n",
    "* Create a summary data frame to hold the results\n",
    "\n",
    "\n",
    "* Optional: round the percentage column to two decimal points\n",
    "\n",
    "\n",
    "* Display Age Demographics Table\n"
   ]
  },
  {
   "cell_type": "code",
   "execution_count": 7,
   "metadata": {},
   "outputs": [
    {
     "data": {
      "text/html": [
       "<style  type=\"text/css\" >\n",
       "</style><table id=\"T_67d4a828_9a9d_11e9_a67b_9eb6d0686515\" ><thead>    <tr>        <th class=\"blank level0\" ></th>        <th class=\"col_heading level0 col0\" >Total_Count</th>        <th class=\"col_heading level0 col1\" >Percentage_of_Players</th>    </tr></thead><tbody>\n",
       "                <tr>\n",
       "                        <th id=\"T_67d4a828_9a9d_11e9_a67b_9eb6d0686515level0_row0\" class=\"row_heading level0 row0\" ><10</th>\n",
       "                        <td id=\"T_67d4a828_9a9d_11e9_a67b_9eb6d0686515row0_col0\" class=\"data row0 col0\" >17</td>\n",
       "                        <td id=\"T_67d4a828_9a9d_11e9_a67b_9eb6d0686515row0_col1\" class=\"data row0 col1\" >2.95</td>\n",
       "            </tr>\n",
       "            <tr>\n",
       "                        <th id=\"T_67d4a828_9a9d_11e9_a67b_9eb6d0686515level0_row1\" class=\"row_heading level0 row1\" >10-14</th>\n",
       "                        <td id=\"T_67d4a828_9a9d_11e9_a67b_9eb6d0686515row1_col0\" class=\"data row1 col0\" >22</td>\n",
       "                        <td id=\"T_67d4a828_9a9d_11e9_a67b_9eb6d0686515row1_col1\" class=\"data row1 col1\" >3.82</td>\n",
       "            </tr>\n",
       "            <tr>\n",
       "                        <th id=\"T_67d4a828_9a9d_11e9_a67b_9eb6d0686515level0_row2\" class=\"row_heading level0 row2\" >15-19</th>\n",
       "                        <td id=\"T_67d4a828_9a9d_11e9_a67b_9eb6d0686515row2_col0\" class=\"data row2 col0\" >107</td>\n",
       "                        <td id=\"T_67d4a828_9a9d_11e9_a67b_9eb6d0686515row2_col1\" class=\"data row2 col1\" >18.58</td>\n",
       "            </tr>\n",
       "            <tr>\n",
       "                        <th id=\"T_67d4a828_9a9d_11e9_a67b_9eb6d0686515level0_row3\" class=\"row_heading level0 row3\" >20-24</th>\n",
       "                        <td id=\"T_67d4a828_9a9d_11e9_a67b_9eb6d0686515row3_col0\" class=\"data row3 col0\" >258</td>\n",
       "                        <td id=\"T_67d4a828_9a9d_11e9_a67b_9eb6d0686515row3_col1\" class=\"data row3 col1\" >44.79</td>\n",
       "            </tr>\n",
       "            <tr>\n",
       "                        <th id=\"T_67d4a828_9a9d_11e9_a67b_9eb6d0686515level0_row4\" class=\"row_heading level0 row4\" >25-29</th>\n",
       "                        <td id=\"T_67d4a828_9a9d_11e9_a67b_9eb6d0686515row4_col0\" class=\"data row4 col0\" >77</td>\n",
       "                        <td id=\"T_67d4a828_9a9d_11e9_a67b_9eb6d0686515row4_col1\" class=\"data row4 col1\" >13.37</td>\n",
       "            </tr>\n",
       "            <tr>\n",
       "                        <th id=\"T_67d4a828_9a9d_11e9_a67b_9eb6d0686515level0_row5\" class=\"row_heading level0 row5\" >30-34</th>\n",
       "                        <td id=\"T_67d4a828_9a9d_11e9_a67b_9eb6d0686515row5_col0\" class=\"data row5 col0\" >52</td>\n",
       "                        <td id=\"T_67d4a828_9a9d_11e9_a67b_9eb6d0686515row5_col1\" class=\"data row5 col1\" >9.03</td>\n",
       "            </tr>\n",
       "            <tr>\n",
       "                        <th id=\"T_67d4a828_9a9d_11e9_a67b_9eb6d0686515level0_row6\" class=\"row_heading level0 row6\" >35-39</th>\n",
       "                        <td id=\"T_67d4a828_9a9d_11e9_a67b_9eb6d0686515row6_col0\" class=\"data row6 col0\" >31</td>\n",
       "                        <td id=\"T_67d4a828_9a9d_11e9_a67b_9eb6d0686515row6_col1\" class=\"data row6 col1\" >5.38</td>\n",
       "            </tr>\n",
       "            <tr>\n",
       "                        <th id=\"T_67d4a828_9a9d_11e9_a67b_9eb6d0686515level0_row7\" class=\"row_heading level0 row7\" >40+</th>\n",
       "                        <td id=\"T_67d4a828_9a9d_11e9_a67b_9eb6d0686515row7_col0\" class=\"data row7 col0\" >12</td>\n",
       "                        <td id=\"T_67d4a828_9a9d_11e9_a67b_9eb6d0686515row7_col1\" class=\"data row7 col1\" >2.08</td>\n",
       "            </tr>\n",
       "    </tbody></table>"
      ],
      "text/plain": [
       "<pandas.io.formats.style.Styler at 0x17b6e1a21d0>"
      ]
     },
     "execution_count": 7,
     "metadata": {},
     "output_type": "execute_result"
    }
   ],
   "source": [
    "a_b = [0, 9, 14, 19, 24, 29, 34, 39, 50]\n",
    "g_n = [\"<10\", \"10-14\", \"15-19\", \"20-24\", \"25-29\", \"30-34\", \"35-39\", \"40+\"]\n",
    "\n",
    "game_df[\"Age Groups\"] = pd.cut(game_df[\"Age\"],a_b, labels=g_n)\n",
    "age_g = game_df.groupby(\"Age Groups\")\n",
    "t_c_a = age_g[\"SN\"].nunique()\n",
    "p_age = (t_c_a/t_p) * 100\n",
    "\n",
    "age_t = pd.DataFrame({\"Total_Count\": t_c_a, \"Percentage_of_Players\": p_age})\n",
    "age_t.index.name = None\n",
    "age_t.style.format({\"Percentage_of_Players\":\"{:,.2f}\"})"
   ]
  },
  {
   "cell_type": "markdown",
   "metadata": {},
   "source": [
    "## Purchasing Analysis (Age)"
   ]
  },
  {
   "cell_type": "markdown",
   "metadata": {},
   "source": [
    "* Bin the purchase_data data frame by age\n",
    "\n",
    "\n",
    "* Run basic calculations to obtain purchase count, avg. purchase price, avg. purchase total per person etc. in the table below\n",
    "\n",
    "\n",
    "* Create a summary data frame to hold the results\n",
    "\n",
    "\n",
    "* Optional: give the displayed data cleaner formatting\n",
    "\n",
    "\n",
    "* Display the summary data frame"
   ]
  },
  {
   "cell_type": "code",
   "execution_count": 8,
   "metadata": {},
   "outputs": [
    {
     "data": {
      "text/html": [
       "<style  type=\"text/css\" >\n",
       "</style><table id=\"T_67da497a_9a9d_11e9_9f20_9eb6d0686515\" ><thead>    <tr>        <th class=\"blank level0\" ></th>        <th class=\"col_heading level0 col0\" >Purchase_Count</th>        <th class=\"col_heading level0 col1\" >Average_Purchase_Price</th>        <th class=\"col_heading level0 col2\" >Total_Purchase_Value</th>        <th class=\"col_heading level0 col3\" >Average_Purchase_Total_per_Person</th>    </tr></thead><tbody>\n",
       "                <tr>\n",
       "                        <th id=\"T_67da497a_9a9d_11e9_9f20_9eb6d0686515level0_row0\" class=\"row_heading level0 row0\" ><10</th>\n",
       "                        <td id=\"T_67da497a_9a9d_11e9_9f20_9eb6d0686515row0_col0\" class=\"data row0 col0\" >23</td>\n",
       "                        <td id=\"T_67da497a_9a9d_11e9_9f20_9eb6d0686515row0_col1\" class=\"data row0 col1\" >$3.35</td>\n",
       "                        <td id=\"T_67da497a_9a9d_11e9_9f20_9eb6d0686515row0_col2\" class=\"data row0 col2\" >$77.13</td>\n",
       "                        <td id=\"T_67da497a_9a9d_11e9_9f20_9eb6d0686515row0_col3\" class=\"data row0 col3\" >$4.54</td>\n",
       "            </tr>\n",
       "            <tr>\n",
       "                        <th id=\"T_67da497a_9a9d_11e9_9f20_9eb6d0686515level0_row1\" class=\"row_heading level0 row1\" >10-14</th>\n",
       "                        <td id=\"T_67da497a_9a9d_11e9_9f20_9eb6d0686515row1_col0\" class=\"data row1 col0\" >28</td>\n",
       "                        <td id=\"T_67da497a_9a9d_11e9_9f20_9eb6d0686515row1_col1\" class=\"data row1 col1\" >$2.96</td>\n",
       "                        <td id=\"T_67da497a_9a9d_11e9_9f20_9eb6d0686515row1_col2\" class=\"data row1 col2\" >$82.78</td>\n",
       "                        <td id=\"T_67da497a_9a9d_11e9_9f20_9eb6d0686515row1_col3\" class=\"data row1 col3\" >$3.76</td>\n",
       "            </tr>\n",
       "            <tr>\n",
       "                        <th id=\"T_67da497a_9a9d_11e9_9f20_9eb6d0686515level0_row2\" class=\"row_heading level0 row2\" >15-19</th>\n",
       "                        <td id=\"T_67da497a_9a9d_11e9_9f20_9eb6d0686515row2_col0\" class=\"data row2 col0\" >136</td>\n",
       "                        <td id=\"T_67da497a_9a9d_11e9_9f20_9eb6d0686515row2_col1\" class=\"data row2 col1\" >$3.04</td>\n",
       "                        <td id=\"T_67da497a_9a9d_11e9_9f20_9eb6d0686515row2_col2\" class=\"data row2 col2\" >$412.89</td>\n",
       "                        <td id=\"T_67da497a_9a9d_11e9_9f20_9eb6d0686515row2_col3\" class=\"data row2 col3\" >$3.86</td>\n",
       "            </tr>\n",
       "            <tr>\n",
       "                        <th id=\"T_67da497a_9a9d_11e9_9f20_9eb6d0686515level0_row3\" class=\"row_heading level0 row3\" >20-24</th>\n",
       "                        <td id=\"T_67da497a_9a9d_11e9_9f20_9eb6d0686515row3_col0\" class=\"data row3 col0\" >365</td>\n",
       "                        <td id=\"T_67da497a_9a9d_11e9_9f20_9eb6d0686515row3_col1\" class=\"data row3 col1\" >$3.05</td>\n",
       "                        <td id=\"T_67da497a_9a9d_11e9_9f20_9eb6d0686515row3_col2\" class=\"data row3 col2\" >$1,114.06</td>\n",
       "                        <td id=\"T_67da497a_9a9d_11e9_9f20_9eb6d0686515row3_col3\" class=\"data row3 col3\" >$4.32</td>\n",
       "            </tr>\n",
       "            <tr>\n",
       "                        <th id=\"T_67da497a_9a9d_11e9_9f20_9eb6d0686515level0_row4\" class=\"row_heading level0 row4\" >25-29</th>\n",
       "                        <td id=\"T_67da497a_9a9d_11e9_9f20_9eb6d0686515row4_col0\" class=\"data row4 col0\" >101</td>\n",
       "                        <td id=\"T_67da497a_9a9d_11e9_9f20_9eb6d0686515row4_col1\" class=\"data row4 col1\" >$2.90</td>\n",
       "                        <td id=\"T_67da497a_9a9d_11e9_9f20_9eb6d0686515row4_col2\" class=\"data row4 col2\" >$293.00</td>\n",
       "                        <td id=\"T_67da497a_9a9d_11e9_9f20_9eb6d0686515row4_col3\" class=\"data row4 col3\" >$3.81</td>\n",
       "            </tr>\n",
       "            <tr>\n",
       "                        <th id=\"T_67da497a_9a9d_11e9_9f20_9eb6d0686515level0_row5\" class=\"row_heading level0 row5\" >30-34</th>\n",
       "                        <td id=\"T_67da497a_9a9d_11e9_9f20_9eb6d0686515row5_col0\" class=\"data row5 col0\" >73</td>\n",
       "                        <td id=\"T_67da497a_9a9d_11e9_9f20_9eb6d0686515row5_col1\" class=\"data row5 col1\" >$2.93</td>\n",
       "                        <td id=\"T_67da497a_9a9d_11e9_9f20_9eb6d0686515row5_col2\" class=\"data row5 col2\" >$214.00</td>\n",
       "                        <td id=\"T_67da497a_9a9d_11e9_9f20_9eb6d0686515row5_col3\" class=\"data row5 col3\" >$4.12</td>\n",
       "            </tr>\n",
       "            <tr>\n",
       "                        <th id=\"T_67da497a_9a9d_11e9_9f20_9eb6d0686515level0_row6\" class=\"row_heading level0 row6\" >35-39</th>\n",
       "                        <td id=\"T_67da497a_9a9d_11e9_9f20_9eb6d0686515row6_col0\" class=\"data row6 col0\" >41</td>\n",
       "                        <td id=\"T_67da497a_9a9d_11e9_9f20_9eb6d0686515row6_col1\" class=\"data row6 col1\" >$3.60</td>\n",
       "                        <td id=\"T_67da497a_9a9d_11e9_9f20_9eb6d0686515row6_col2\" class=\"data row6 col2\" >$147.67</td>\n",
       "                        <td id=\"T_67da497a_9a9d_11e9_9f20_9eb6d0686515row6_col3\" class=\"data row6 col3\" >$4.76</td>\n",
       "            </tr>\n",
       "            <tr>\n",
       "                        <th id=\"T_67da497a_9a9d_11e9_9f20_9eb6d0686515level0_row7\" class=\"row_heading level0 row7\" >40+</th>\n",
       "                        <td id=\"T_67da497a_9a9d_11e9_9f20_9eb6d0686515row7_col0\" class=\"data row7 col0\" >13</td>\n",
       "                        <td id=\"T_67da497a_9a9d_11e9_9f20_9eb6d0686515row7_col1\" class=\"data row7 col1\" >$2.94</td>\n",
       "                        <td id=\"T_67da497a_9a9d_11e9_9f20_9eb6d0686515row7_col2\" class=\"data row7 col2\" >$38.24</td>\n",
       "                        <td id=\"T_67da497a_9a9d_11e9_9f20_9eb6d0686515row7_col3\" class=\"data row7 col3\" >$3.19</td>\n",
       "            </tr>\n",
       "    </tbody></table>"
      ],
      "text/plain": [
       "<pandas.io.formats.style.Styler at 0x17b6e197e10>"
      ]
     },
     "execution_count": 8,
     "metadata": {},
     "output_type": "execute_result"
    }
   ],
   "source": [
    "p_c_a = age_g[\"Purchase ID\"].count()\n",
    "a_p = age_g[\"Price\"].mean() \n",
    "t_p_v = age_g[\"Price\"].sum() \n",
    "a_p_p_a = t_p_v/t_c_a\n",
    "age_as = pd.DataFrame({\"Purchase_Count\": p_c_a,\n",
    "                                 \"Average_Purchase_Price\": a_p,\n",
    "                                 \"Total_Purchase_Value\":t_p_v,\n",
    "                                 \"Average_Purchase_Total_per_Person\": a_p_p_a})\n",
    "age_as.index.name = None\n",
    "\n",
    "age_as.style.format({\"Average_Purchase_Price\":\"${:,.2f}\",\n",
    "                               \"Total_Purchase_Value\":\"${:,.2f}\",\n",
    "                               \"Average_Purchase_Total_per_Person\":\"${:,.2f}\"})"
   ]
  },
  {
   "cell_type": "markdown",
   "metadata": {},
   "source": [
    "## Top Spenders"
   ]
  },
  {
   "cell_type": "markdown",
   "metadata": {},
   "source": [
    "* Run basic calculations to obtain the results in the table below\n",
    "\n",
    "\n",
    "* Create a summary data frame to hold the results\n",
    "\n",
    "\n",
    "* Sort the total purchase value column in descending order\n",
    "\n",
    "\n",
    "* Optional: give the displayed data cleaner formatting\n",
    "\n",
    "\n",
    "* Display a preview of the summary data frame\n",
    "\n"
   ]
  },
  {
   "cell_type": "code",
   "execution_count": 9,
   "metadata": {},
   "outputs": [
    {
     "data": {
      "text/html": [
       "<style  type=\"text/css\" >\n",
       "</style><table id=\"T_67e011e8_9a9d_11e9_955f_9eb6d0686515\" ><thead>    <tr>        <th class=\"blank level0\" ></th>        <th class=\"col_heading level0 col0\" >Purchase_Count</th>        <th class=\"col_heading level0 col1\" >Average_Purchase_Price</th>        <th class=\"col_heading level0 col2\" >Total_Purchase_Value</th>    </tr>    <tr>        <th class=\"index_name level0\" >SN</th>        <th class=\"blank\" ></th>        <th class=\"blank\" ></th>        <th class=\"blank\" ></th>    </tr></thead><tbody>\n",
       "                <tr>\n",
       "                        <th id=\"T_67e011e8_9a9d_11e9_955f_9eb6d0686515level0_row0\" class=\"row_heading level0 row0\" >Lisosia93</th>\n",
       "                        <td id=\"T_67e011e8_9a9d_11e9_955f_9eb6d0686515row0_col0\" class=\"data row0 col0\" >5</td>\n",
       "                        <td id=\"T_67e011e8_9a9d_11e9_955f_9eb6d0686515row0_col1\" class=\"data row0 col1\" >$3.79</td>\n",
       "                        <td id=\"T_67e011e8_9a9d_11e9_955f_9eb6d0686515row0_col2\" class=\"data row0 col2\" >$18.96</td>\n",
       "            </tr>\n",
       "            <tr>\n",
       "                        <th id=\"T_67e011e8_9a9d_11e9_955f_9eb6d0686515level0_row1\" class=\"row_heading level0 row1\" >Idastidru52</th>\n",
       "                        <td id=\"T_67e011e8_9a9d_11e9_955f_9eb6d0686515row1_col0\" class=\"data row1 col0\" >4</td>\n",
       "                        <td id=\"T_67e011e8_9a9d_11e9_955f_9eb6d0686515row1_col1\" class=\"data row1 col1\" >$3.86</td>\n",
       "                        <td id=\"T_67e011e8_9a9d_11e9_955f_9eb6d0686515row1_col2\" class=\"data row1 col2\" >$15.45</td>\n",
       "            </tr>\n",
       "            <tr>\n",
       "                        <th id=\"T_67e011e8_9a9d_11e9_955f_9eb6d0686515level0_row2\" class=\"row_heading level0 row2\" >Chamjask73</th>\n",
       "                        <td id=\"T_67e011e8_9a9d_11e9_955f_9eb6d0686515row2_col0\" class=\"data row2 col0\" >3</td>\n",
       "                        <td id=\"T_67e011e8_9a9d_11e9_955f_9eb6d0686515row2_col1\" class=\"data row2 col1\" >$4.61</td>\n",
       "                        <td id=\"T_67e011e8_9a9d_11e9_955f_9eb6d0686515row2_col2\" class=\"data row2 col2\" >$13.83</td>\n",
       "            </tr>\n",
       "            <tr>\n",
       "                        <th id=\"T_67e011e8_9a9d_11e9_955f_9eb6d0686515level0_row3\" class=\"row_heading level0 row3\" >Iral74</th>\n",
       "                        <td id=\"T_67e011e8_9a9d_11e9_955f_9eb6d0686515row3_col0\" class=\"data row3 col0\" >4</td>\n",
       "                        <td id=\"T_67e011e8_9a9d_11e9_955f_9eb6d0686515row3_col1\" class=\"data row3 col1\" >$3.40</td>\n",
       "                        <td id=\"T_67e011e8_9a9d_11e9_955f_9eb6d0686515row3_col2\" class=\"data row3 col2\" >$13.62</td>\n",
       "            </tr>\n",
       "            <tr>\n",
       "                        <th id=\"T_67e011e8_9a9d_11e9_955f_9eb6d0686515level0_row4\" class=\"row_heading level0 row4\" >Iskadarya95</th>\n",
       "                        <td id=\"T_67e011e8_9a9d_11e9_955f_9eb6d0686515row4_col0\" class=\"data row4 col0\" >3</td>\n",
       "                        <td id=\"T_67e011e8_9a9d_11e9_955f_9eb6d0686515row4_col1\" class=\"data row4 col1\" >$4.37</td>\n",
       "                        <td id=\"T_67e011e8_9a9d_11e9_955f_9eb6d0686515row4_col2\" class=\"data row4 col2\" >$13.10</td>\n",
       "            </tr>\n",
       "    </tbody></table>"
      ],
      "text/plain": [
       "<pandas.io.formats.style.Styler at 0x17b6e1a23c8>"
      ]
     },
     "execution_count": 9,
     "metadata": {},
     "output_type": "execute_result"
    }
   ],
   "source": [
    "s_s = game_df.groupby(\"SN\")\n",
    "p_c_s = s_s[\"Purchase ID\"].count()\n",
    "a_p_s = s_s[\"Price\"].mean()\n",
    "p_t_s= s_s[\"Price\"].sum()\n",
    "\n",
    "top_s = pd.DataFrame({\"Purchase_Count\": p_c_s,\n",
    "                             \"Average_Purchase_Price\": a_p_s,\n",
    "                             \"Total_Purchase_Value\":p_t_s})\n",
    "\n",
    "s_format = top_s.sort_values([\"Total_Purchase_Value\"], ascending=False).head()\n",
    "\n",
    "s_format.style.format({\"Average_Purchase_Total\":\"${:,.2f}\",\n",
    "                                 \"Average_Purchase_Price\":\"${:,.2f}\", \n",
    "                                 \"Total_Purchase_Value\":\"${:,.2f}\"})"
   ]
  },
  {
   "cell_type": "markdown",
   "metadata": {},
   "source": [
    "## Most Popular Items"
   ]
  },
  {
   "cell_type": "markdown",
   "metadata": {},
   "source": [
    "* Retrieve the Item ID, Item Name, and Item Price columns\n",
    "\n",
    "\n",
    "* Group by Item ID and Item Name. Perform calculations to obtain purchase count, item price, and total purchase value\n",
    "\n",
    "\n",
    "* Create a summary data frame to hold the results\n",
    "\n",
    "\n",
    "* Sort the purchase count column in descending order\n",
    "\n",
    "\n",
    "* Optional: give the displayed data cleaner formatting\n",
    "\n",
    "\n",
    "* Display a preview of the summary data frame\n",
    "\n"
   ]
  },
  {
   "cell_type": "code",
   "execution_count": 10,
   "metadata": {},
   "outputs": [
    {
     "data": {
      "text/html": [
       "<style  type=\"text/css\" >\n",
       "</style><table id=\"T_67e7add8_9a9d_11e9_98a9_9eb6d0686515\" ><thead>    <tr>        <th class=\"blank\" ></th>        <th class=\"blank level0\" ></th>        <th class=\"col_heading level0 col0\" >Purchase_Count</th>        <th class=\"col_heading level0 col1\" >Item_Price</th>        <th class=\"col_heading level0 col2\" >Total_Purchase_Value</th>    </tr>    <tr>        <th class=\"index_name level0\" >Item ID</th>        <th class=\"index_name level1\" >Item Name</th>        <th class=\"blank\" ></th>        <th class=\"blank\" ></th>        <th class=\"blank\" ></th>    </tr></thead><tbody>\n",
       "                <tr>\n",
       "                        <th id=\"T_67e7add8_9a9d_11e9_98a9_9eb6d0686515level0_row0\" class=\"row_heading level0 row0\" >178</th>\n",
       "                        <th id=\"T_67e7add8_9a9d_11e9_98a9_9eb6d0686515level1_row0\" class=\"row_heading level1 row0\" >Oathbreaker, Last Hope of the Breaking Storm</th>\n",
       "                        <td id=\"T_67e7add8_9a9d_11e9_98a9_9eb6d0686515row0_col0\" class=\"data row0 col0\" >12</td>\n",
       "                        <td id=\"T_67e7add8_9a9d_11e9_98a9_9eb6d0686515row0_col1\" class=\"data row0 col1\" >$4.23</td>\n",
       "                        <td id=\"T_67e7add8_9a9d_11e9_98a9_9eb6d0686515row0_col2\" class=\"data row0 col2\" >$50.76</td>\n",
       "            </tr>\n",
       "            <tr>\n",
       "                        <th id=\"T_67e7add8_9a9d_11e9_98a9_9eb6d0686515level0_row1\" class=\"row_heading level0 row1\" >145</th>\n",
       "                        <th id=\"T_67e7add8_9a9d_11e9_98a9_9eb6d0686515level1_row1\" class=\"row_heading level1 row1\" >Fiery Glass Crusader</th>\n",
       "                        <td id=\"T_67e7add8_9a9d_11e9_98a9_9eb6d0686515row1_col0\" class=\"data row1 col0\" >9</td>\n",
       "                        <td id=\"T_67e7add8_9a9d_11e9_98a9_9eb6d0686515row1_col1\" class=\"data row1 col1\" >$4.58</td>\n",
       "                        <td id=\"T_67e7add8_9a9d_11e9_98a9_9eb6d0686515row1_col2\" class=\"data row1 col2\" >$41.22</td>\n",
       "            </tr>\n",
       "            <tr>\n",
       "                        <th id=\"T_67e7add8_9a9d_11e9_98a9_9eb6d0686515level0_row2\" class=\"row_heading level0 row2\" >108</th>\n",
       "                        <th id=\"T_67e7add8_9a9d_11e9_98a9_9eb6d0686515level1_row2\" class=\"row_heading level1 row2\" >Extraction, Quickblade Of Trembling Hands</th>\n",
       "                        <td id=\"T_67e7add8_9a9d_11e9_98a9_9eb6d0686515row2_col0\" class=\"data row2 col0\" >9</td>\n",
       "                        <td id=\"T_67e7add8_9a9d_11e9_98a9_9eb6d0686515row2_col1\" class=\"data row2 col1\" >$3.53</td>\n",
       "                        <td id=\"T_67e7add8_9a9d_11e9_98a9_9eb6d0686515row2_col2\" class=\"data row2 col2\" >$31.77</td>\n",
       "            </tr>\n",
       "            <tr>\n",
       "                        <th id=\"T_67e7add8_9a9d_11e9_98a9_9eb6d0686515level0_row3\" class=\"row_heading level0 row3\" >82</th>\n",
       "                        <th id=\"T_67e7add8_9a9d_11e9_98a9_9eb6d0686515level1_row3\" class=\"row_heading level1 row3\" >Nirvana</th>\n",
       "                        <td id=\"T_67e7add8_9a9d_11e9_98a9_9eb6d0686515row3_col0\" class=\"data row3 col0\" >9</td>\n",
       "                        <td id=\"T_67e7add8_9a9d_11e9_98a9_9eb6d0686515row3_col1\" class=\"data row3 col1\" >$4.90</td>\n",
       "                        <td id=\"T_67e7add8_9a9d_11e9_98a9_9eb6d0686515row3_col2\" class=\"data row3 col2\" >$44.10</td>\n",
       "            </tr>\n",
       "            <tr>\n",
       "                        <th id=\"T_67e7add8_9a9d_11e9_98a9_9eb6d0686515level0_row4\" class=\"row_heading level0 row4\" >19</th>\n",
       "                        <th id=\"T_67e7add8_9a9d_11e9_98a9_9eb6d0686515level1_row4\" class=\"row_heading level1 row4\" >Pursuit, Cudgel of Necromancy</th>\n",
       "                        <td id=\"T_67e7add8_9a9d_11e9_98a9_9eb6d0686515row4_col0\" class=\"data row4 col0\" >8</td>\n",
       "                        <td id=\"T_67e7add8_9a9d_11e9_98a9_9eb6d0686515row4_col1\" class=\"data row4 col1\" >$1.02</td>\n",
       "                        <td id=\"T_67e7add8_9a9d_11e9_98a9_9eb6d0686515row4_col2\" class=\"data row4 col2\" >$8.16</td>\n",
       "            </tr>\n",
       "    </tbody></table>"
      ],
      "text/plain": [
       "<pandas.io.formats.style.Styler at 0x17b6e197358>"
      ]
     },
     "execution_count": 10,
     "metadata": {},
     "output_type": "execute_result"
    }
   ],
   "source": [
    "item = game_df[[\"Item ID\", \"Item Name\", \"Price\"]]\n",
    "i_stats = item.groupby([\"Item ID\", \"Item Name\"])\n",
    "p_count = i_stats[\"Price\"].count()\n",
    "p_value = i_stats[\"Price\"].sum()\n",
    "i_price = p_value/p_count\n",
    "\n",
    "p_df = pd.DataFrame({\"Purchase_Count\" : p_count,\n",
    "                          \"Item_Price\" : i_price,\n",
    "                          \"Total_Purchase_Value\" : p_value})\n",
    "\n",
    "p_f = p_df.sort_values([\"Purchase_Count\"], ascending=False).head()\n",
    "\n",
    "p_f.style.format({\"Item_Price\":\"${:,.2f}\",\n",
    "                                \"Total_Purchase_Value\":\"${:,.2f}\"})"
   ]
  },
  {
   "cell_type": "markdown",
   "metadata": {},
   "source": [
    "## Most Profitable Items"
   ]
  },
  {
   "cell_type": "markdown",
   "metadata": {},
   "source": [
    "* Sort the above table by total purchase value in descending order\n",
    "\n",
    "\n",
    "* Optional: give the displayed data cleaner formatting\n",
    "\n",
    "\n",
    "* Display a preview of the data frame\n",
    "\n"
   ]
  },
  {
   "cell_type": "code",
   "execution_count": 11,
   "metadata": {
    "scrolled": true
   },
   "outputs": [
    {
     "data": {
      "text/html": [
       "<style  type=\"text/css\" >\n",
       "</style><table id=\"T_67ee1226_9a9d_11e9_af9c_9eb6d0686515\" ><thead>    <tr>        <th class=\"blank\" ></th>        <th class=\"blank level0\" ></th>        <th class=\"col_heading level0 col0\" >Purchase_Count</th>        <th class=\"col_heading level0 col1\" >Item_Price</th>        <th class=\"col_heading level0 col2\" >Total_Purchase_Value</th>    </tr>    <tr>        <th class=\"index_name level0\" >Item ID</th>        <th class=\"index_name level1\" >Item Name</th>        <th class=\"blank\" ></th>        <th class=\"blank\" ></th>        <th class=\"blank\" ></th>    </tr></thead><tbody>\n",
       "                <tr>\n",
       "                        <th id=\"T_67ee1226_9a9d_11e9_af9c_9eb6d0686515level0_row0\" class=\"row_heading level0 row0\" >178</th>\n",
       "                        <th id=\"T_67ee1226_9a9d_11e9_af9c_9eb6d0686515level1_row0\" class=\"row_heading level1 row0\" >Oathbreaker, Last Hope of the Breaking Storm</th>\n",
       "                        <td id=\"T_67ee1226_9a9d_11e9_af9c_9eb6d0686515row0_col0\" class=\"data row0 col0\" >12</td>\n",
       "                        <td id=\"T_67ee1226_9a9d_11e9_af9c_9eb6d0686515row0_col1\" class=\"data row0 col1\" >$4.23</td>\n",
       "                        <td id=\"T_67ee1226_9a9d_11e9_af9c_9eb6d0686515row0_col2\" class=\"data row0 col2\" >$50.76</td>\n",
       "            </tr>\n",
       "            <tr>\n",
       "                        <th id=\"T_67ee1226_9a9d_11e9_af9c_9eb6d0686515level0_row1\" class=\"row_heading level0 row1\" >82</th>\n",
       "                        <th id=\"T_67ee1226_9a9d_11e9_af9c_9eb6d0686515level1_row1\" class=\"row_heading level1 row1\" >Nirvana</th>\n",
       "                        <td id=\"T_67ee1226_9a9d_11e9_af9c_9eb6d0686515row1_col0\" class=\"data row1 col0\" >9</td>\n",
       "                        <td id=\"T_67ee1226_9a9d_11e9_af9c_9eb6d0686515row1_col1\" class=\"data row1 col1\" >$4.90</td>\n",
       "                        <td id=\"T_67ee1226_9a9d_11e9_af9c_9eb6d0686515row1_col2\" class=\"data row1 col2\" >$44.10</td>\n",
       "            </tr>\n",
       "            <tr>\n",
       "                        <th id=\"T_67ee1226_9a9d_11e9_af9c_9eb6d0686515level0_row2\" class=\"row_heading level0 row2\" >145</th>\n",
       "                        <th id=\"T_67ee1226_9a9d_11e9_af9c_9eb6d0686515level1_row2\" class=\"row_heading level1 row2\" >Fiery Glass Crusader</th>\n",
       "                        <td id=\"T_67ee1226_9a9d_11e9_af9c_9eb6d0686515row2_col0\" class=\"data row2 col0\" >9</td>\n",
       "                        <td id=\"T_67ee1226_9a9d_11e9_af9c_9eb6d0686515row2_col1\" class=\"data row2 col1\" >$4.58</td>\n",
       "                        <td id=\"T_67ee1226_9a9d_11e9_af9c_9eb6d0686515row2_col2\" class=\"data row2 col2\" >$41.22</td>\n",
       "            </tr>\n",
       "            <tr>\n",
       "                        <th id=\"T_67ee1226_9a9d_11e9_af9c_9eb6d0686515level0_row3\" class=\"row_heading level0 row3\" >92</th>\n",
       "                        <th id=\"T_67ee1226_9a9d_11e9_af9c_9eb6d0686515level1_row3\" class=\"row_heading level1 row3\" >Final Critic</th>\n",
       "                        <td id=\"T_67ee1226_9a9d_11e9_af9c_9eb6d0686515row3_col0\" class=\"data row3 col0\" >8</td>\n",
       "                        <td id=\"T_67ee1226_9a9d_11e9_af9c_9eb6d0686515row3_col1\" class=\"data row3 col1\" >$4.88</td>\n",
       "                        <td id=\"T_67ee1226_9a9d_11e9_af9c_9eb6d0686515row3_col2\" class=\"data row3 col2\" >$39.04</td>\n",
       "            </tr>\n",
       "            <tr>\n",
       "                        <th id=\"T_67ee1226_9a9d_11e9_af9c_9eb6d0686515level0_row4\" class=\"row_heading level0 row4\" >103</th>\n",
       "                        <th id=\"T_67ee1226_9a9d_11e9_af9c_9eb6d0686515level1_row4\" class=\"row_heading level1 row4\" >Singed Scalpel</th>\n",
       "                        <td id=\"T_67ee1226_9a9d_11e9_af9c_9eb6d0686515row4_col0\" class=\"data row4 col0\" >8</td>\n",
       "                        <td id=\"T_67ee1226_9a9d_11e9_af9c_9eb6d0686515row4_col1\" class=\"data row4 col1\" >$4.35</td>\n",
       "                        <td id=\"T_67ee1226_9a9d_11e9_af9c_9eb6d0686515row4_col2\" class=\"data row4 col2\" >$34.80</td>\n",
       "            </tr>\n",
       "    </tbody></table>"
      ],
      "text/plain": [
       "<pandas.io.formats.style.Styler at 0x17b6e197940>"
      ]
     },
     "execution_count": 11,
     "metadata": {},
     "output_type": "execute_result"
    }
   ],
   "source": [
    "p_f = p_df.sort_values([\"Total_Purchase_Value\"],\n",
    "                                                   ascending=False).head()\n",
    "\n",
    "p_f.style.format({\"Item_Price\":\"${:,.2f}\",\n",
    "                                \"Total_Purchase_Value\":\"${:,.2f}\"})"
   ]
  },
  {
   "cell_type": "code",
   "execution_count": 12,
   "metadata": {},
   "outputs": [],
   "source": [
    " # A written description of three observable trends based on the data.\n",
    "    \n",
    "    #Trend1: Most players are between the ages of 20-24 with a total of 44.79%.\n",
    "    #Trend2: Most players are male with a total of 84.03%.\n",
    "    #Trend3: The most popular item sold is \"Oathbreaker, Last Hope of the Breaking Storm\" with a total of 12 purchases."
   ]
  },
  {
   "cell_type": "code",
   "execution_count": null,
   "metadata": {},
   "outputs": [],
   "source": [
    "# Submit a link to your Jupyter Notebook with the viewable Data Frames."
   ]
  }
 ],
 "metadata": {
  "anaconda-cloud": {},
  "kernel_info": {
   "name": "python3"
  },
  "kernelspec": {
   "display_name": "Python 3",
   "language": "python",
   "name": "python3"
  },
  "language_info": {
   "codemirror_mode": {
    "name": "ipython",
    "version": 3
   },
   "file_extension": ".py",
   "mimetype": "text/x-python",
   "name": "python",
   "nbconvert_exporter": "python",
   "pygments_lexer": "ipython3",
   "version": "3.7.3"
  },
  "nteract": {
   "version": "0.2.0"
  }
 },
 "nbformat": 4,
 "nbformat_minor": 2
}
